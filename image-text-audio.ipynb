{
 "cells": [
  {
   "cell_type": "code",
   "execution_count": 1,
   "id": "15f0bac8-b251-49a8-855b-6e387f2081c8",
   "metadata": {},
   "outputs": [
    {
     "name": "stdout",
     "output_type": "stream",
     "text": [
      "<PIL.PngImagePlugin.PngImageFile image mode=RGBA size=719x422 at 0x14B7B81BCE0>\n",
      "Their drawbacks\n",
      "\n",
      "Despise being favored in the past, these 2 activation functions are\n",
      "less used today, especially when it comes to training deep neural\n",
      "networks with a large number of layers.\n",
      "\n",
      "» The biggest problem is called Vanishing Gradient. That is, for a\n",
      "deep network with many layers, when we update the weights using\n",
      "backpropagation, the gradients transferred back to the earlier layers\n",
      "get contracted exponentially. At some points, the updating gradients\n",
      "almost vanish (become so close to 0), making the network unable to\n",
      "learn any more.\n",
      "\n"
     ]
    }
   ],
   "source": [
    "import pytesseract\n",
    "from PIL import Image\n",
    "import gtts\n",
    "pytesseract.pytesseract.tesseract_cmd=r\"C:\\\\Program Files\\\\Tesseract-OCR\\\\tesseract.exe\"\n",
    "img = Image.open(r\"C:\\Users\\arunm\\Downloads\\Picture1.png\")\n",
    "\n",
    "print(img)\n",
    "result = pytesseract.image_to_string(img)\n",
    "print(result)\n",
    "tts = gtts.gTTS(result)\n",
    "tts.save(\"hello.mp3\")\n",
    "     "
   ]
  },
  {
   "cell_type": "code",
   "execution_count": null,
   "id": "afb37848-ddc8-4c17-8061-722be8f2ee62",
   "metadata": {},
   "outputs": [],
   "source": []
  },
  {
   "cell_type": "code",
   "execution_count": null,
   "id": "9a16bb17-964d-48c0-9f47-898e186536a2",
   "metadata": {},
   "outputs": [],
   "source": []
  }
 ],
 "metadata": {
  "kernelspec": {
   "display_name": "Python 3 (ipykernel)",
   "language": "python",
   "name": "python3"
  },
  "language_info": {
   "codemirror_mode": {
    "name": "ipython",
    "version": 3
   },
   "file_extension": ".py",
   "mimetype": "text/x-python",
   "name": "python",
   "nbconvert_exporter": "python",
   "pygments_lexer": "ipython3",
   "version": "3.12.1"
  }
 },
 "nbformat": 4,
 "nbformat_minor": 5
}
